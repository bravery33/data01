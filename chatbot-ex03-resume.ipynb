{
 "cells": [
  {
   "cell_type": "markdown",
   "id": "6c02435e",
   "metadata": {},
   "source": [
    "# [문제] Managing Conversation History\n",
    "- trim_messages()\n",
    "- RunnablePassthrough.assign\n",
    "- itemgetter()\n",
    "- session ID를 사용하여 대화(Multi Turn Conversation)를 진행하세요.\n",
    "- LLM 모델은 과거 대화를 기억하지 못합니다."
   ]
  },
  {
   "cell_type": "code",
   "execution_count": null,
   "id": "e002d1c7",
   "metadata": {},
   "outputs": [
    {
     "name": "stdout",
     "output_type": "stream",
     "text": [
      "[이력서]\n",
      "\n",
      "**이름:** 김말똥  \n",
      "**연락처:** 010-8888-8888  \n",
      "**주소:** 경기도 군포시  \n",
      "\n",
      "---\n",
      "\n",
      "**소개**  \n",
      "안녕하십니까? 저는 건축 내외장 시공분야에서 실력을 쌓아가고 있는 김말똥입니다. 기본에 충실한 시공과 고객만족을 최우선으로 생각하며, 주어진 역할을 성실히 수행하는 것을 목표로 두고 있습니다. \n",
      "\n",
      "---\n",
      "\n",
      "**기술**  \n",
      "- **미장**  \n",
      "  다양한 건축 현장에서 공정에 맞게 미장 작업을 수행해왔습니다. 세밀한 손길과 효"
     ]
    }
   ],
   "source": [
    "## 1. 모듈 import\n",
    "from operator import itemgetter\n",
    "from dotenv import load_dotenv\n",
    "from langchain_openai import ChatOpenAI\n",
    "from langchain.callbacks.streaming_stdout import StreamingStdOutCallbackHandler\n",
    "from langchain_core.chat_history import InMemoryChatMessageHistory, BaseChatMessageHistory\n",
    "from langchain_core.messages import SystemMessage, trim_messages\n",
    "from langchain_core.prompts import ChatPromptTemplate\n",
    "from langchain_core.runnables import RunnablePassthrough\n",
    "from langchain_core.runnables.history import RunnableWithMessageHistory\n",
    "\n",
    "## 2. .env 파일에서 환경변수 읽어오기\n",
    "load_dotenv()\n",
    "\n",
    "## 3. 세션별 대화 히스토리를 저장할 임시 메모리 저장소\n",
    "store = {}\n",
    "\n",
    "## 4. prompt 생성\n",
    "messages = [\n",
    "    ('system', '''당신은 이력서 작성 컨설턴트입니다.\n",
    "    아래 정보를 바탕으로 지원자 입장에서 2000자 이내로 이력서를 작성합니다.\n",
    "    문장은 자연스럽고 매끄럽게 작성합니다.'''),\n",
    "\t('placeholder', '{chat_history}'),\n",
    "\t('user', '{query}')\n",
    "]\n",
    "\n",
    "prompt = ChatPromptTemplate.from_messages(messages=messages)\n",
    "\n",
    "## 5. ChatOpenAI 인스턴스 생성: 모델 생성\n",
    "llm = ChatOpenAI(\n",
    "    model='gpt-4o',\n",
    "    streaming=True,\n",
    "    callbacks=[StreamingStdOutCallbackHandler()],\n",
    ")\n",
    "\n",
    "## 6. Trim 설정\n",
    "trimmer = trim_messages(\n",
    "    max_tokens=50,\n",
    "    strategy='last',\n",
    "    token_counter=llm,\n",
    "    include_system=True,\n",
    "    allow_partial=False,\n",
    "    start_on='human',\n",
    ")\n",
    "\n",
    "## 7. chain 구성\n",
    "chain = (\n",
    "    RunnablePassthrough.assign(chat_history=itemgetter('chat_history') | trimmer)    \n",
    "    | prompt \n",
    "    | llm\n",
    ")\n",
    "\n",
    "## 8. 함수 정의\n",
    "def get_history(session_id: str) -> BaseChatMessageHistory:\n",
    "    if session_id not in store:\n",
    "        store[session_id] = InMemoryChatMessageHistory()\n",
    "    return store[session_id]\n",
    "\n",
    "## 9. chain에 대화 히스토리 기능을 래핑해서 추가\n",
    "with_message_history = RunnableWithMessageHistory(\n",
    "    chain,\n",
    "    get_history,\n",
    "    input_messages_key='query',\n",
    "    history_messages_key='chat_history'\n",
    ")\n",
    "\n",
    "## 10. chain 실행\n",
    "while True:\n",
    "    query = input('이력서 작성 컨설턴트입니다. 질문하세요. [종료: S] >>> ')\n",
    "\n",
    "    if query.upper() == 'S':\n",
    "        break\n",
    "\n",
    "    with_message_history.invoke(\n",
    "        {'query': query},\n",
    "        config={'configurable': {'session_id': '5678'}}      \n",
    "    )"
   ]
  },
  {
   "cell_type": "code",
   "execution_count": 9,
   "id": "6a40bb5c",
   "metadata": {},
   "outputs": [
    {
     "name": "stdout",
     "output_type": "stream",
     "text": [
      "이름: 김말똥, 나이: 22, 연락처: 010-8888-8888, 주소: 경기도 군포시, 기술: 미장, 도배\n",
      "****************************************************************************************************\n",
      "[이력서]\n",
      "\n",
      "**이름:** 김말똥  \n",
      "**연락처:** 010-8888-8888  \n",
      "**주소:** 경기도 군포시  \n",
      "\n",
      "---\n",
      "\n",
      "**소개**  \n",
      "안녕하십니까? 저는 건축 내외장 시공분야에서 실력을 쌓아가고 있는 김말똥입니다. 기본에 충실한 시공과 고객만족을 최우선으로 생각하며, 주어진 역할을 성실히 수행하는 것을 목표로 두고 있습니다. \n",
      "\n",
      "---\n",
      "\n",
      "**기술**  \n",
      "- **미장**  \n",
      "  다양한 건축 현장에서 공정에 맞게 미장 작업을 수행해왔습니다. 세밀한 손길과 효\n",
      "****************************************************************************************************\n"
     ]
    }
   ],
   "source": [
    "for info in get_history('5678').messages:\n",
    "    print(info.content)\n",
    "    print('*' * 100)"
   ]
  }
 ],
 "metadata": {
  "kernelspec": {
   "display_name": "project",
   "language": "python",
   "name": "python3"
  },
  "language_info": {
   "codemirror_mode": {
    "name": "ipython",
    "version": 3
   },
   "file_extension": ".py",
   "mimetype": "text/x-python",
   "name": "python",
   "nbconvert_exporter": "python",
   "pygments_lexer": "ipython3",
   "version": "3.10.12"
  }
 },
 "nbformat": 4,
 "nbformat_minor": 5
}
