{
 "cells": [
  {
   "cell_type": "markdown",
   "id": "c0139bb2",
   "metadata": {},
   "source": [
    "# [문제] Managing Conversation History\n",
    "- trim_messages()\n",
    "- RunnablePassthrough.assign\n",
    "- itemgetter()\n",
    "- Multi Turn\n",
    "- session ID를 사용하여 대화를 진행하세요.\n",
    "- LLM 모델은 과거 대화를 기억하지 못합니다."
   ]
  },
  {
   "cell_type": "code",
   "execution_count": 1,
   "id": "bb2c497d",
   "metadata": {},
   "outputs": [],
   "source": [
    "## 1. 모듈(파일, 라이브러리) 읽어오기\n",
    "from langchain_core.runnables.history import RunnableWithMessageHistory\n",
    "from langchain_core.chat_history import InMemoryChatMessageHistory, BaseChatMessageHistory\n",
    "from langchain_core.prompts import ChatPromptTemplate\n",
    "from langchain.callbacks.streaming_stdout import StreamingStdOutCallbackHandler\n",
    "from langchain_openai import ChatOpenAI\n",
    "\n",
    "from dotenv import load_dotenv\n",
    "\n",
    "\n",
    "## 2. 환경변수에 설정된 값 읽어오기\n",
    "load_dotenv()\n",
    "\n",
    "## 3. 파일 읽기\n",
    "file_name = '남녀고용평등과 일ㆍ가정 양립 지원에 관한 법률(법률)(제20521호)(20250223).txt'\n",
    "\n",
    "with open(file_name, 'r', encoding='utf-8') as file:\n",
    "    law = file.read()\n",
    "\n",
    "## 4. prompt 생성\n",
    "template = [\n",
    "    ('system', '''당신은 육아휴직 법률 전문가입니다.\n",
    "     아래 문서를 참고하여, 사용자 질문에 성실하게 답변합니다.\n",
    "     답변은 문서 내용을 기반으로 하되, 해당 조항도 표시합니다.\n",
    "     - 문서: {law}'''),\n",
    "    ('placeholder', '{chat_history}'),\n",
    "    ('user', '{query}')\n",
    "]\n",
    "\n",
    "prompt = ChatPromptTemplate.from_messages(template)\n"
   ]
  },
  {
   "cell_type": "code",
   "execution_count": 6,
   "id": "48b44951",
   "metadata": {},
   "outputs": [
    {
     "name": "stdout",
     "output_type": "stream",
     "text": [
      "육아휴직의 기간은 1년 이내로 하며, 부모가 같은 자녀를 대상으로 각각 3개월 이상 사용한 경우, 한부모 가족인 경우, 장애아동을 양육하는 경우에는 6개월 이내에서 추가로 육아휴직을 사용할 수 있습니다(제19조 제2항).\n",
      "====================================================================================================\n",
      "\n",
      "종료합니다\n"
     ]
    }
   ],
   "source": [
    "\n",
    "## 5. ChatOpenAI 인스턴스 생성\n",
    "llm = ChatOpenAI(\n",
    "    model='gpt-4o',\n",
    "    streaming=True,\n",
    "    callbacks=[StreamingStdOutCallbackHandler()],\n",
    "    max_tokens=512, \n",
    ")\n",
    "\n",
    "from langchain_core.messages import SystemMessage, trim_messages\n",
    "\n",
    "## 6. Trim 설정\n",
    "trimmer = trim_messages(\n",
    "    max_tokens=50, # 최대 토근 수 제한\n",
    "    strategy=\"last\", # 최근 메시지부터 시작해서 자르기\n",
    "    token_counter=llm, # 모델 기준으로 토근 수 계산\n",
    "    include_system=True, # 시스템 메시지 포함\n",
    "    allow_partial=False, # 메시지 자르기 제한\n",
    "    start_on=\"human\", # Human 부터 자르기 시작\n",
    ")\n",
    "\n",
    "from langchain_core.runnables import RunnablePassthrough\n",
    "from operator import itemgetter\n",
    "\n",
    "## 7. chain 구성\n",
    "chain = (\n",
    "    RunnablePassthrough.assign(chat_history=itemgetter('chat_history') | trimmer)\n",
    "    | prompt \n",
    "    | llm\n",
    ")\n",
    "\n",
    "## 8. 세션별 대화 이력(히스토리)을 저장할 임시 메모리 저장소\n",
    "store = {}\n",
    "\n",
    "## 9. 함수 정의: 대화 이력(히스토리) 인스턴스 리턴\n",
    "def get_history(session_id: str) -> BaseChatMessageHistory:\n",
    "    if session_id not in store:\n",
    "        store[session_id] = InMemoryChatMessageHistory()\n",
    "    return store[session_id]\n",
    "\n",
    "\n",
    "## 10. chain에 대화 이력(히스토리) 기능을 래핑해서 추가\n",
    "with_message_history = RunnableWithMessageHistory(\n",
    "    chain,\n",
    "    get_history,\n",
    "    history_messages_key='chat_history',\n",
    "    input_messages_key='query',\n",
    ")\n",
    "\n",
    "## 11. 실행(Multi Turn)\n",
    "while True:\n",
    "    query = input('육아휴직과 관련된 질문하세요 >> ')\n",
    "    if query.upper() == 'S':\n",
    "        print('종료합니다')\n",
    "        break\n",
    " \n",
    "    with_message_history.invoke(\n",
    "        {'law': law, 'query': query},\n",
    "        config={'configurable': {'session_id': 'abc'}}\n",
    "    )\n",
    "    \n",
    "    print('\\n' + '=' * 100 + '\\n')"
   ]
  },
  {
   "cell_type": "code",
   "execution_count": 7,
   "id": "d94a1e39",
   "metadata": {},
   "outputs": [
    {
     "name": "stdout",
     "output_type": "stream",
     "text": [
      "[HUMAN]: 육아휴직 기간은?\n",
      "\n",
      "[AI]: 육아휴직의 기간은 1년 이내로 하며, 부모가 같은 자녀를 대상으로 각각 3개월 이상 사용한 경우, 한부모 가족인 경우, 장애아동을 양육하는 경우에는 6개월 이내에서 추가로 육아휴직을 사용할 수 있습니다(제19조 제2항).\n",
      "\n"
     ]
    }
   ],
   "source": [
    "for message in get_history('abc').messages:\n",
    "    print(f'[{message.type.upper()}]: {message.content}\\n')"
   ]
  },
  {
   "cell_type": "markdown",
   "id": "b4afbfc9",
   "metadata": {},
   "source": [
    "육아휴직 기간은?\n",
    "육아휴직 조건은?\n",
    "육아휴직 대상자는?\n",
    "육아휴직 수당은?\n",
    "첫 번째 질문은?\n",
    "질문을 정리해\n",
    "너의 역할은?\n",
    "육아휴직 질문에 대한 답변을 정리해"
   ]
  }
 ],
 "metadata": {
  "kernelspec": {
   "display_name": "project",
   "language": "python",
   "name": "python3"
  },
  "language_info": {
   "codemirror_mode": {
    "name": "ipython",
    "version": 3
   },
   "file_extension": ".py",
   "mimetype": "text/x-python",
   "name": "python",
   "nbconvert_exporter": "python",
   "pygments_lexer": "ipython3",
   "version": "3.10.12"
  }
 },
 "nbformat": 4,
 "nbformat_minor": 5
}
