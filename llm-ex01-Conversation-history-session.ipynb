{
 "cells": [
  {
   "cell_type": "code",
   "execution_count": 1,
   "id": "854a5753",
   "metadata": {},
   "outputs": [],
   "source": [
    "from langchain_core.chat_history import InMemoryChatMessageHistory, BaseChatMessageHistory\n",
    "from langchain_core.runnables.history import RunnableWithMessageHistory\n",
    "from langchain_openai import ChatOpenAI\n",
    "from langchain_core.output_parsers import StrOutputParser\n",
    "from langchain_core.prompts import ChatPromptTemplate\n",
    "from dotenv import load_dotenv\n",
    "\n",
    "\n",
    "load_dotenv()\n",
    "\n",
    "with open(\n",
    "    r'C:\\course_video\\llm_basic\\llm_0527\\남녀고용평등과 일ㆍ가정 양립 지원에 관한 법률(법률)(제20521호)(20250223).txt', 'r', encoding='utf-8'\n",
    "    ) as file:\n",
    "        script = file.read()\n",
    "\n",
    "store = {}\n",
    "\n",
    "def get_session_history(session_id: str) -> BaseChatMessageHistory:\n",
    "    if session_id not in store:\n",
    "        store[session_id] = InMemoryChatMessageHistory()\n",
    "    return store[session_id]\n",
    "\n",
    "prompt = ChatPromptTemplate.from_messages(\n",
    "    [\n",
    "        (\"system\", \n",
    "        '''\n",
    "        사용자가 제공한 문서를 참고하여, 사용자 질문에 답변합니다. \n",
    "        답변은 문서 내용을 기반으로 하고, \n",
    "        해당 페이지도 표시합니다.\n",
    "        참고문서: \"{book}\"\n",
    "        '''),\n",
    "        (\"placeholder\", \"{chat_history}\"), \n",
    "        (\"human\", \"{input}\"), \n",
    "    ]\n",
    ")\n",
    "\n",
    "chain = prompt | ChatOpenAI(model='gpt-4.1-nano', max_completion_tokens=50,) | StrOutputParser()\n",
    "\n",
    "wrapped_chain = RunnableWithMessageHistory( \n",
    "    chain,\n",
    "    get_session_history, \n",
    "    input_messages_key= 'input',\n",
    "    history_messages_key= 'chat_history'\n",
    "    )"
   ]
  },
  {
   "cell_type": "code",
   "execution_count": 2,
   "id": "3795680a",
   "metadata": {},
   "outputs": [
    {
     "data": {
      "text/plain": [
       "'사용자가 제공한 문서에 따르면, 남녀고용평등법은 고용에서 남녀의 평등한 기회와 대우, 모성 보호, 일ㆍ가정 양립 지원 등을 목적으로 하는 법률입니다'"
      ]
     },
     "execution_count": 2,
     "metadata": {},
     "output_type": "execute_result"
    }
   ],
   "source": [
    "request = input('질문하세요 >>')\n",
    "\n",
    "wrapped_chain.invoke(\n",
    "    {'book' : script, 'input' : request},\n",
    "    config={'configurable': {'session_id': 123456}},\n",
    ")"
   ]
  }
 ],
 "metadata": {
  "kernelspec": {
   "display_name": "project",
   "language": "python",
   "name": "python3"
  },
  "language_info": {
   "codemirror_mode": {
    "name": "ipython",
    "version": 3
   },
   "file_extension": ".py",
   "mimetype": "text/x-python",
   "name": "python",
   "nbconvert_exporter": "python",
   "pygments_lexer": "ipython3",
   "version": "3.10.12"
  }
 },
 "nbformat": 4,
 "nbformat_minor": 5
}
